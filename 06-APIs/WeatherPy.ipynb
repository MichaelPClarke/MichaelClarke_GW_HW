{
 "cells": [
  {
   "cell_type": "markdown",
   "metadata": {},
   "source": [
    "# WeatherPy\n",
    "----\n",
    "\n",
    "### Analysis\n",
    "* As expected, the weather becomes significantly warmer as one approaches the equator (0 Deg. Latitude). More interestingly, however, is the fact that the southern hemisphere tends to be warmer this time of year than the northern hemisphere. This may be due to the tilt of the earth.\n",
    "* There is no strong relationship between latitude and cloudiness. However, it is interesting to see that a strong band of cities sits at 0, 80, and 100% cloudiness.\n",
    "* There is no strong relationship between latitude and wind speed. However, in northern hemispheres there is a flurry of cities with over 20 mph of wind."
   ]
  },
  {
   "cell_type": "code",
   "execution_count": 1,
   "metadata": {},
   "outputs": [
    {
     "name": "stdout",
     "output_type": "stream",
     "text": [
      "Requirement already satisfied: citipy in c:\\users\\575684\\anaconda3\\lib\\site-packages (0.0.5)\n",
      "Requirement already satisfied: kdtree>=0.12 in c:\\users\\575684\\anaconda3\\lib\\site-packages (from citipy) (0.16)\n"
     ]
    }
   ],
   "source": [
    "!pip install citipy"
   ]
  },
  {
   "cell_type": "code",
   "execution_count": 2,
   "metadata": {
    "scrolled": true
   },
   "outputs": [],
   "source": [
    "# Dependencies and Setup\n",
    "import matplotlib.pyplot as plt\n",
    "import pandas as pd\n",
    "import numpy as np\n",
    "import requests\n",
    "import time\n",
    "from scipy.stats import linregress\n",
    "\n",
    "# Import API key\n",
    "from config import weather_api_key\n",
    "\n",
    "# Incorporated citipy to determine city based on latitude and longitude\n",
    "from citipy import citipy\n",
    "\n",
    "# Output File (CSV)\n",
    "output_data_file = \"output_data/cities.csv\"\n",
    "\n",
    "# Range of latitudes and longitudes\n",
    "lat_range = (-90, 90)\n",
    "lng_range = (-180, 180)"
   ]
  },
  {
   "cell_type": "markdown",
   "metadata": {},
   "source": [
    "## Generate Cities List"
   ]
  },
  {
   "cell_type": "code",
   "execution_count": 3,
   "metadata": {},
   "outputs": [
    {
     "data": {
      "text/plain": [
       "616"
      ]
     },
     "execution_count": 3,
     "metadata": {},
     "output_type": "execute_result"
    }
   ],
   "source": [
    "# List for holding lat_lngs and cities\n",
    "lat_lngs = []\n",
    "cities = []\n",
    "\n",
    "# Create a set of random lat and lng combinations\n",
    "lats = np.random.uniform(lat_range[0], lat_range[1], size=1500)\n",
    "lngs = np.random.uniform(lng_range[0], lng_range[1], size=1500)\n",
    "lat_lngs = zip(lats, lngs)\n",
    "\n",
    "# Identify nearest city for each lat, lng combination\n",
    "for lat_lng in lat_lngs:\n",
    "    city = citipy.nearest_city(lat_lng[0], lat_lng[1]).city_name\n",
    "    \n",
    "    # If the city is unique, then add it to a our cities list\n",
    "    if city not in cities:\n",
    "        cities.append(city)\n",
    "\n",
    "# Print the city count to confirm sufficient count\n",
    "len(cities)"
   ]
  },
  {
   "cell_type": "markdown",
   "metadata": {},
   "source": [
    "## Perform API Calls"
   ]
  },
  {
   "cell_type": "code",
   "execution_count": 4,
   "metadata": {},
   "outputs": [
    {
     "name": "stdout",
     "output_type": "stream",
     "text": [
      "Beginning Data Retrieval     \n",
      "-----------------------------\n",
      "Processing Record 1 of Set 1 | bredasdorp\n",
      "Processing Record 2 of Set 1 | tuktoyaktuk\n",
      "Processing Record 3 of Set 1 | mnogovershinnyy\n",
      "Processing Record 4 of Set 1 | mareeba\n",
      "Processing Record 5 of Set 1 | mataura\n",
      "Processing Record 6 of Set 1 | maragogi\n",
      "Processing Record 7 of Set 1 | uk\n",
      "City not found. Skipping...\n",
      "Processing Record 8 of Set 1 | hobart\n",
      "Processing Record 9 of Set 1 | kirakira\n",
      "Processing Record 10 of Set 1 | samusu\n",
      "City not found. Skipping...\n",
      "Processing Record 11 of Set 1 | atuona\n",
      "Processing Record 12 of Set 1 | rikitea\n",
      "Processing Record 13 of Set 1 | dikson\n",
      "Processing Record 14 of Set 1 | puerto ayora\n",
      "Processing Record 15 of Set 1 | inhambane\n",
      "Processing Record 16 of Set 1 | sitka\n",
      "Processing Record 17 of Set 1 | oxapampa\n",
      "Processing Record 18 of Set 1 | filingue\n",
      "Processing Record 19 of Set 1 | butaritari\n",
      "Processing Record 20 of Set 1 | san vicente\n",
      "Processing Record 21 of Set 1 | ushuaia\n",
      "Processing Record 22 of Set 1 | clyde river\n",
      "Processing Record 23 of Set 1 | praia da vitoria\n",
      "Processing Record 24 of Set 1 | ilulissat\n",
      "Processing Record 25 of Set 1 | huarmey\n",
      "Processing Record 26 of Set 1 | jamestown\n",
      "Processing Record 27 of Set 1 | albany\n",
      "Processing Record 28 of Set 1 | saskylakh\n",
      "Processing Record 29 of Set 1 | mys shmidta\n",
      "City not found. Skipping...\n",
      "Processing Record 30 of Set 1 | diffa\n",
      "Processing Record 31 of Set 1 | veraval\n",
      "Processing Record 32 of Set 1 | alofi\n",
      "Processing Record 33 of Set 1 | paramonga\n",
      "Processing Record 34 of Set 1 | port hardy\n",
      "Processing Record 35 of Set 1 | carnarvon\n",
      "Processing Record 36 of Set 1 | isangel\n",
      "Processing Record 37 of Set 1 | ribeira grande\n",
      "Processing Record 38 of Set 1 | saint-philippe\n",
      "Processing Record 39 of Set 1 | bethel\n",
      "Processing Record 40 of Set 1 | busselton\n",
      "Processing Record 41 of Set 1 | porbandar\n",
      "Processing Record 42 of Set 1 | ilabaya\n",
      "Processing Record 43 of Set 1 | chiredzi\n",
      "Processing Record 44 of Set 1 | toora-khem\n",
      "Processing Record 45 of Set 1 | comodoro rivadavia\n",
      "Processing Record 46 of Set 1 | longyearbyen\n",
      "Processing Record 47 of Set 1 | lebu\n",
      "Processing Record 48 of Set 1 | coihaique\n",
      "Processing Record 49 of Set 1 | punta arenas\n",
      "Processing Record 50 of Set 1 | cape town\n",
      "Processing Record 0 of Set 2 | vila franca do campo\n",
      "Processing Record 1 of Set 2 | illoqqortoormiut\n",
      "City not found. Skipping...\n",
      "Processing Record 2 of Set 2 | kodiak\n",
      "Processing Record 3 of Set 2 | lingao\n",
      "Processing Record 4 of Set 2 | le vauclin\n",
      "Processing Record 5 of Set 2 | barentsburg\n",
      "City not found. Skipping...\n",
      "Processing Record 6 of Set 2 | hermanus\n",
      "Processing Record 7 of Set 2 | avarua\n",
      "Processing Record 8 of Set 2 | chokurdakh\n",
      "Processing Record 9 of Set 2 | vaini\n",
      "Processing Record 10 of Set 2 | svencionys\n",
      "Processing Record 11 of Set 2 | faya\n",
      "Processing Record 12 of Set 2 | petropavlovsk-kamchatskiy\n",
      "Processing Record 13 of Set 2 | almaznyy\n",
      "Processing Record 14 of Set 2 | qaanaaq\n",
      "Processing Record 15 of Set 2 | mehamn\n",
      "Processing Record 16 of Set 2 | alta floresta\n",
      "Processing Record 17 of Set 2 | lahaina\n",
      "Processing Record 18 of Set 2 | cherskiy\n",
      "Processing Record 19 of Set 2 | itaituba\n",
      "Processing Record 20 of Set 2 | nome\n",
      "Processing Record 21 of Set 2 | margate\n",
      "Processing Record 22 of Set 2 | oussouye\n",
      "Processing Record 23 of Set 2 | pacific grove\n",
      "Processing Record 24 of Set 2 | umred\n",
      "Processing Record 25 of Set 2 | severo-kurilsk\n",
      "Processing Record 26 of Set 2 | mashhad\n",
      "Processing Record 27 of Set 2 | kununurra\n",
      "Processing Record 28 of Set 2 | la mana\n",
      "Processing Record 29 of Set 2 | bani walid\n",
      "Processing Record 30 of Set 2 | castro\n",
      "Processing Record 31 of Set 2 | hilo\n",
      "Processing Record 32 of Set 2 | duz\n",
      "City not found. Skipping...\n",
      "Processing Record 33 of Set 2 | port alfred\n",
      "Processing Record 34 of Set 2 | new norfolk\n",
      "Processing Record 35 of Set 2 | lagoa\n",
      "Processing Record 36 of Set 2 | ban nahin\n",
      "Processing Record 37 of Set 2 | bluff\n",
      "Processing Record 38 of Set 2 | tasiilaq\n",
      "Processing Record 39 of Set 2 | rocha\n",
      "Processing Record 40 of Set 2 | khatanga\n",
      "Processing Record 41 of Set 2 | nikolskoye\n",
      "Processing Record 42 of Set 2 | castelbuono\n",
      "Processing Record 43 of Set 2 | provideniya\n",
      "Processing Record 44 of Set 2 | mount isa\n",
      "Processing Record 45 of Set 2 | noumea\n",
      "Processing Record 46 of Set 2 | acajutla\n",
      "Processing Record 47 of Set 2 | mandasa\n",
      "Processing Record 48 of Set 2 | hithadhoo\n",
      "Processing Record 49 of Set 2 | san patricio\n",
      "Processing Record 0 of Set 3 | kapaa\n",
      "Processing Record 1 of Set 3 | mar del plata\n",
      "Processing Record 2 of Set 3 | whitehorse\n",
      "Processing Record 3 of Set 3 | chase\n",
      "Processing Record 4 of Set 3 | kahului\n",
      "Processing Record 5 of Set 3 | amahai\n",
      "Processing Record 6 of Set 3 | southbridge\n",
      "Processing Record 7 of Set 3 | sola\n",
      "Processing Record 8 of Set 3 | yumen\n",
      "Processing Record 9 of Set 3 | guiratinga\n",
      "Processing Record 10 of Set 3 | tankhoy\n",
      "Processing Record 11 of Set 3 | belushya guba\n",
      "City not found. Skipping...\n",
      "Processing Record 12 of Set 3 | cidreira\n",
      "Processing Record 13 of Set 3 | shimoda\n",
      "Processing Record 14 of Set 3 | port elizabeth\n",
      "Processing Record 15 of Set 3 | ponta do sol\n",
      "Processing Record 16 of Set 3 | port macquarie\n",
      "Processing Record 17 of Set 3 | mount gambier\n",
      "Processing Record 18 of Set 3 | sumbawa\n",
      "City not found. Skipping...\n",
      "Processing Record 19 of Set 3 | salalah\n",
      "Processing Record 20 of Set 3 | tagbac\n",
      "Processing Record 21 of Set 3 | praia\n",
      "Processing Record 22 of Set 3 | oktyabrskoye\n",
      "Processing Record 23 of Set 3 | adrar\n",
      "Processing Record 24 of Set 3 | jining\n",
      "Processing Record 25 of Set 3 | bukachacha\n",
      "Processing Record 26 of Set 3 | lompoc\n",
      "Processing Record 27 of Set 3 | katsuura\n",
      "Processing Record 28 of Set 3 | acapulco\n",
      "Processing Record 29 of Set 3 | waingapu\n",
      "Processing Record 30 of Set 3 | klaksvik\n",
      "Processing Record 31 of Set 3 | barrow\n",
      "Processing Record 32 of Set 3 | quimper\n",
      "Processing Record 33 of Set 3 | tigil\n",
      "Processing Record 34 of Set 3 | guerrero negro\n",
      "Processing Record 35 of Set 3 | yellowknife\n",
      "Processing Record 36 of Set 3 | nanortalik\n",
      "Processing Record 37 of Set 3 | chipata\n",
      "Processing Record 38 of Set 3 | ust-maya\n",
      "Processing Record 39 of Set 3 | namatanai\n",
      "Processing Record 40 of Set 3 | san carlos de bariloche\n",
      "Processing Record 41 of Set 3 | loikaw\n",
      "Processing Record 42 of Set 3 | keetmanshoop\n",
      "Processing Record 43 of Set 3 | ust-nera\n",
      "Processing Record 44 of Set 3 | thompson\n",
      "Processing Record 45 of Set 3 | yar-sale\n",
      "Processing Record 46 of Set 3 | pyatovskiy\n",
      "Processing Record 47 of Set 3 | sorland\n",
      "Processing Record 48 of Set 3 | flinders\n",
      "Processing Record 49 of Set 3 | tynda\n",
      "Processing Record 0 of Set 4 | suamico\n",
      "Processing Record 1 of Set 4 | glasgow\n",
      "Processing Record 2 of Set 4 | rosa zarate\n",
      "Processing Record 3 of Set 4 | coquimbo\n",
      "Processing Record 4 of Set 4 | fairview\n",
      "Processing Record 5 of Set 4 | grand river south east\n",
      "City not found. Skipping...\n",
      "Processing Record 6 of Set 4 | chuy\n",
      "Processing Record 7 of Set 4 | saint george\n",
      "Processing Record 8 of Set 4 | hamilton\n",
      "Processing Record 9 of Set 4 | sydney\n",
      "Processing Record 10 of Set 4 | save\n",
      "Processing Record 11 of Set 4 | ahuimanu\n",
      "Processing Record 12 of Set 4 | basco\n",
      "Processing Record 13 of Set 4 | faanui\n",
      "Processing Record 14 of Set 4 | komsomolskiy\n",
      "Processing Record 15 of Set 4 | taolanaro\n",
      "City not found. Skipping...\n",
      "Processing Record 16 of Set 4 | kyabe\n",
      "Processing Record 17 of Set 4 | tabiauea\n",
      "City not found. Skipping...\n",
      "Processing Record 18 of Set 4 | georgetown\n",
      "Processing Record 19 of Set 4 | ginir\n",
      "Processing Record 20 of Set 4 | raudeberg\n",
      "Processing Record 21 of Set 4 | the hammocks\n",
      "Processing Record 22 of Set 4 | dunedin\n",
      "Processing Record 23 of Set 4 | east london\n",
      "Processing Record 24 of Set 4 | fairbanks\n",
      "Processing Record 25 of Set 4 | felidhoo\n",
      "City not found. Skipping...\n",
      "Processing Record 26 of Set 4 | evensk\n",
      "Processing Record 27 of Set 4 | khandyga\n",
      "Processing Record 28 of Set 4 | tuatapere\n",
      "Processing Record 29 of Set 4 | shasta lake\n",
      "Processing Record 30 of Set 4 | nusaybin\n",
      "Processing Record 31 of Set 4 | lorengau\n",
      "Processing Record 32 of Set 4 | kulzeb\n",
      "City not found. Skipping...\n",
      "Processing Record 33 of Set 4 | labuan\n",
      "Processing Record 34 of Set 4 | san julian\n",
      "Processing Record 35 of Set 4 | fare\n",
      "Processing Record 36 of Set 4 | diapaga\n",
      "Processing Record 37 of Set 4 | karla\n",
      "Processing Record 38 of Set 4 | saint anthony\n",
      "Processing Record 39 of Set 4 | aquiraz\n"
     ]
    },
    {
     "name": "stdout",
     "output_type": "stream",
     "text": [
      "Processing Record 40 of Set 4 | meyungs\n",
      "City not found. Skipping...\n",
      "Processing Record 41 of Set 4 | bilibino\n",
      "Processing Record 42 of Set 4 | tautira\n",
      "Processing Record 43 of Set 4 | olindina\n",
      "Processing Record 44 of Set 4 | victoria\n",
      "Processing Record 45 of Set 4 | broadstairs\n",
      "Processing Record 46 of Set 4 | pisco\n",
      "Processing Record 47 of Set 4 | balakhta\n",
      "Processing Record 48 of Set 4 | tiksi\n",
      "Processing Record 49 of Set 4 | bengkulu\n",
      "Processing Record 0 of Set 5 | sandpoint\n",
      "Processing Record 1 of Set 5 | sapa\n",
      "Processing Record 2 of Set 5 | attawapiskat\n",
      "City not found. Skipping...\n",
      "Processing Record 3 of Set 5 | dingle\n",
      "Processing Record 4 of Set 5 | kaitangata\n",
      "Processing Record 5 of Set 5 | qasigiannguit\n",
      "Processing Record 6 of Set 5 | tsihombe\n",
      "City not found. Skipping...\n",
      "Processing Record 7 of Set 5 | regina\n",
      "Processing Record 8 of Set 5 | datong\n",
      "Processing Record 9 of Set 5 | black diamond\n",
      "Processing Record 10 of Set 5 | vardo\n",
      "Processing Record 11 of Set 5 | esperance\n",
      "Processing Record 12 of Set 5 | bonavista\n",
      "Processing Record 13 of Set 5 | tabas\n",
      "Processing Record 14 of Set 5 | pachino\n",
      "Processing Record 15 of Set 5 | port moresby\n",
      "Processing Record 16 of Set 5 | oxford\n",
      "Processing Record 17 of Set 5 | laramie\n",
      "Processing Record 18 of Set 5 | torbay\n",
      "Processing Record 19 of Set 5 | tual\n",
      "Processing Record 20 of Set 5 | portland\n",
      "Processing Record 21 of Set 5 | jilmah\n",
      "City not found. Skipping...\n",
      "Processing Record 22 of Set 5 | pevek\n",
      "Processing Record 23 of Set 5 | ostrovnoy\n",
      "Processing Record 24 of Set 5 | cangucu\n",
      "Processing Record 25 of Set 5 | meyzieu\n",
      "Processing Record 26 of Set 5 | petropavlivka\n",
      "Processing Record 27 of Set 5 | nemuro\n",
      "Processing Record 28 of Set 5 | platanos\n",
      "Processing Record 29 of Set 5 | allanridge\n",
      "Processing Record 30 of Set 5 | yanan\n",
      "City not found. Skipping...\n",
      "Processing Record 31 of Set 5 | lata\n",
      "Processing Record 32 of Set 5 | aksarka\n",
      "Processing Record 33 of Set 5 | zemio\n",
      "Processing Record 34 of Set 5 | kangaatsiaq\n",
      "Processing Record 35 of Set 5 | viedma\n",
      "Processing Record 36 of Set 5 | igrim\n",
      "Processing Record 37 of Set 5 | saint-georges\n",
      "Processing Record 38 of Set 5 | coahuayana\n",
      "Processing Record 39 of Set 5 | hobyo\n",
      "Processing Record 40 of Set 5 | karratha\n",
      "Processing Record 41 of Set 5 | arraial do cabo\n",
      "Processing Record 42 of Set 5 | norman wells\n",
      "Processing Record 43 of Set 5 | mazagao\n",
      "Processing Record 44 of Set 5 | shatalovo\n",
      "Processing Record 45 of Set 5 | amderma\n",
      "City not found. Skipping...\n",
      "Processing Record 46 of Set 5 | tilichiki\n",
      "Processing Record 47 of Set 5 | road town\n",
      "Processing Record 48 of Set 5 | hay river\n",
      "Processing Record 49 of Set 5 | shibetsu\n",
      "Processing Record 0 of Set 6 | cayenne\n",
      "Processing Record 1 of Set 6 | bolungarvik\n",
      "City not found. Skipping...\n",
      "Processing Record 2 of Set 6 | cabo san lucas\n",
      "Processing Record 3 of Set 6 | sinjar\n",
      "Processing Record 4 of Set 6 | umm ruwabah\n",
      "City not found. Skipping...\n",
      "Processing Record 5 of Set 6 | ha giang\n",
      "Processing Record 6 of Set 6 | kabala\n",
      "Processing Record 7 of Set 6 | beisfjord\n",
      "Processing Record 8 of Set 6 | fortuna\n",
      "Processing Record 9 of Set 6 | chapais\n",
      "Processing Record 10 of Set 6 | leningradskiy\n",
      "Processing Record 11 of Set 6 | flin flon\n",
      "Processing Record 12 of Set 6 | bambous virieux\n",
      "Processing Record 13 of Set 6 | aksu\n",
      "Processing Record 14 of Set 6 | pandan\n",
      "Processing Record 15 of Set 6 | buribay\n",
      "Processing Record 16 of Set 6 | sawtell\n",
      "Processing Record 17 of Set 6 | kachikau\n",
      "City not found. Skipping...\n",
      "Processing Record 18 of Set 6 | kwidzyn\n",
      "Processing Record 19 of Set 6 | husavik\n",
      "Processing Record 20 of Set 6 | ola\n",
      "Processing Record 21 of Set 6 | oistins\n",
      "Processing Record 22 of Set 6 | souillac\n",
      "Processing Record 23 of Set 6 | kuytun\n",
      "Processing Record 24 of Set 6 | sentyabrskiy\n",
      "City not found. Skipping...\n",
      "Processing Record 25 of Set 6 | uray\n",
      "Processing Record 26 of Set 6 | papar\n",
      "Processing Record 27 of Set 6 | awjilah\n",
      "Processing Record 28 of Set 6 | tocopilla\n",
      "Processing Record 29 of Set 6 | carmen\n",
      "Processing Record 30 of Set 6 | rio grande\n",
      "Processing Record 31 of Set 6 | borama\n",
      "City not found. Skipping...\n",
      "Processing Record 32 of Set 6 | kuybyshevo\n",
      "Processing Record 33 of Set 6 | carutapera\n",
      "Processing Record 34 of Set 6 | lavrentiya\n",
      "Processing Record 35 of Set 6 | oum hadjer\n",
      "Processing Record 36 of Set 6 | iquitos\n",
      "Processing Record 37 of Set 6 | calama\n",
      "Processing Record 38 of Set 6 | birao\n",
      "Processing Record 39 of Set 6 | karkaralinsk\n",
      "City not found. Skipping...\n",
      "Processing Record 40 of Set 6 | marzuq\n",
      "Processing Record 41 of Set 6 | saldanha\n",
      "Processing Record 42 of Set 6 | naberera\n",
      "Processing Record 43 of Set 6 | caravelas\n",
      "Processing Record 44 of Set 6 | marcona\n",
      "City not found. Skipping...\n",
      "Processing Record 45 of Set 6 | kruisfontein\n",
      "Processing Record 46 of Set 6 | gerash\n",
      "Processing Record 47 of Set 6 | bargal\n",
      "City not found. Skipping...\n",
      "Processing Record 48 of Set 6 | cap malheureux\n",
      "Processing Record 49 of Set 6 | wangqing\n",
      "Processing Record 0 of Set 7 | ramhormoz\n",
      "Processing Record 1 of Set 7 | kankan\n",
      "Processing Record 2 of Set 7 | antalaha\n",
      "Processing Record 3 of Set 7 | ossora\n",
      "Processing Record 4 of Set 7 | ca mau\n",
      "Processing Record 5 of Set 7 | jinxi\n",
      "Processing Record 6 of Set 7 | kalety\n",
      "Processing Record 7 of Set 7 | asyut\n",
      "Processing Record 8 of Set 7 | davidson\n",
      "Processing Record 9 of Set 7 | laguna\n",
      "Processing Record 10 of Set 7 | nakonde\n",
      "Processing Record 11 of Set 7 | pepel\n",
      "Processing Record 12 of Set 7 | les herbiers\n",
      "Processing Record 13 of Set 7 | airai\n",
      "Processing Record 14 of Set 7 | ancud\n",
      "Processing Record 15 of Set 7 | krasnyy chikoy\n",
      "Processing Record 16 of Set 7 | semirom\n",
      "Processing Record 17 of Set 7 | killybegs\n",
      "Processing Record 18 of Set 7 | kochkurovo\n",
      "Processing Record 19 of Set 7 | berlevag\n",
      "Processing Record 20 of Set 7 | ahipara\n",
      "Processing Record 21 of Set 7 | caconda\n",
      "Processing Record 22 of Set 7 | palauig\n",
      "Processing Record 23 of Set 7 | mahebourg\n",
      "Processing Record 24 of Set 7 | deputatskiy\n",
      "Processing Record 25 of Set 7 | da nang\n",
      "Processing Record 26 of Set 7 | holme\n",
      "Processing Record 27 of Set 7 | nizhneyansk\n",
      "City not found. Skipping...\n",
      "Processing Record 28 of Set 7 | ouro fino\n",
      "Processing Record 29 of Set 7 | luderitz\n",
      "Processing Record 30 of Set 7 | paradise valley\n",
      "Processing Record 31 of Set 7 | meulaboh\n",
      "Processing Record 32 of Set 7 | biu\n",
      "Processing Record 33 of Set 7 | mandera\n",
      "Processing Record 34 of Set 7 | ponta delgada\n",
      "Processing Record 35 of Set 7 | myitkyina\n",
      "Processing Record 36 of Set 7 | grand gaube\n",
      "Processing Record 37 of Set 7 | othonoi\n",
      "City not found. Skipping...\n",
      "Processing Record 38 of Set 7 | badvel\n",
      "Processing Record 39 of Set 7 | wanaka\n",
      "Processing Record 40 of Set 7 | taltal\n",
      "Processing Record 41 of Set 7 | harper\n",
      "Processing Record 42 of Set 7 | morondava\n",
      "Processing Record 43 of Set 7 | nantucket\n",
      "Processing Record 44 of Set 7 | quatre cocos\n",
      "Processing Record 45 of Set 7 | palabuhanratu\n",
      "City not found. Skipping...\n",
      "Processing Record 46 of Set 7 | pozo colorado\n",
      "Processing Record 47 of Set 7 | okha\n",
      "Processing Record 48 of Set 7 | petrozavodsk\n",
      "Processing Record 49 of Set 7 | goderich\n",
      "Processing Record 0 of Set 8 | tallahassee\n",
      "Processing Record 1 of Set 8 | ngaoundere\n",
      "Processing Record 2 of Set 8 | temir\n",
      "Processing Record 3 of Set 8 | puerto colombia\n",
      "Processing Record 4 of Set 8 | gusau\n",
      "Processing Record 5 of Set 8 | padang\n",
      "Processing Record 6 of Set 8 | lima\n",
      "Processing Record 7 of Set 8 | srednekolymsk\n",
      "Processing Record 8 of Set 8 | ugoofaaru\n",
      "Processing Record 9 of Set 8 | poum\n",
      "Processing Record 10 of Set 8 | ak-dovurak\n",
      "Processing Record 11 of Set 8 | sao filipe\n",
      "Processing Record 12 of Set 8 | serabu\n",
      "Processing Record 13 of Set 8 | soyo\n",
      "Processing Record 14 of Set 8 | kabo\n",
      "Processing Record 15 of Set 8 | ozuluama\n",
      "Processing Record 16 of Set 8 | goulburn\n",
      "Processing Record 17 of Set 8 | surman\n",
      "Processing Record 18 of Set 8 | high level\n",
      "Processing Record 19 of Set 8 | anadyr\n",
      "Processing Record 20 of Set 8 | sur\n",
      "Processing Record 21 of Set 8 | bara\n",
      "Processing Record 22 of Set 8 | kavaratti\n",
      "Processing Record 23 of Set 8 | hervey bay\n",
      "Processing Record 24 of Set 8 | strelka\n",
      "Processing Record 25 of Set 8 | arganil\n",
      "Processing Record 26 of Set 8 | mujiayingzi\n",
      "Processing Record 27 of Set 8 | banda aceh\n",
      "Processing Record 28 of Set 8 | richard toll\n",
      "City not found. Skipping...\n",
      "Processing Record 29 of Set 8 | sept-iles\n",
      "Processing Record 30 of Set 8 | kemijarvi\n",
      "Processing Record 31 of Set 8 | naze\n"
     ]
    },
    {
     "name": "stdout",
     "output_type": "stream",
     "text": [
      "Processing Record 32 of Set 8 | bow island\n",
      "Processing Record 33 of Set 8 | orshanka\n",
      "Processing Record 34 of Set 8 | sorong\n",
      "Processing Record 35 of Set 8 | golden\n",
      "Processing Record 36 of Set 8 | doha\n",
      "Processing Record 37 of Set 8 | atambua\n",
      "Processing Record 38 of Set 8 | la ronge\n",
      "Processing Record 39 of Set 8 | lamu\n",
      "Processing Record 40 of Set 8 | iralaya\n",
      "Processing Record 41 of Set 8 | saint-augustin\n",
      "Processing Record 42 of Set 8 | madimba\n",
      "Processing Record 43 of Set 8 | umzimvubu\n",
      "City not found. Skipping...\n",
      "Processing Record 44 of Set 8 | marystown\n",
      "Processing Record 45 of Set 8 | jacksonville\n",
      "Processing Record 46 of Set 8 | port-gentil\n",
      "Processing Record 47 of Set 8 | beidao\n",
      "Processing Record 48 of Set 8 | vanimo\n",
      "Processing Record 49 of Set 8 | dorogobuzh\n",
      "Processing Record 0 of Set 9 | boyuibe\n",
      "Processing Record 1 of Set 9 | grand-santi\n",
      "Processing Record 2 of Set 9 | nanakuli\n",
      "Processing Record 3 of Set 9 | sarny\n",
      "Processing Record 4 of Set 9 | concordia\n",
      "Processing Record 5 of Set 9 | emerald\n",
      "Processing Record 6 of Set 9 | bubaque\n",
      "Processing Record 7 of Set 9 | mandiana\n",
      "Processing Record 8 of Set 9 | bereznehuvate\n",
      "Processing Record 9 of Set 9 | caramay\n",
      "Processing Record 10 of Set 9 | aasiaat\n",
      "Processing Record 11 of Set 9 | atasu\n",
      "Processing Record 12 of Set 9 | zhangjiakou\n",
      "Processing Record 13 of Set 9 | bulembu\n",
      "Processing Record 14 of Set 9 | esplanada\n",
      "Processing Record 15 of Set 9 | sakakah\n",
      "Processing Record 16 of Set 9 | baculin\n",
      "Processing Record 17 of Set 9 | sambava\n",
      "Processing Record 18 of Set 9 | port hedland\n",
      "Processing Record 19 of Set 9 | taoudenni\n",
      "Processing Record 20 of Set 9 | hasaki\n",
      "Processing Record 21 of Set 9 | gambo\n",
      "Processing Record 22 of Set 9 | soubre\n",
      "Processing Record 23 of Set 9 | tabulbah\n",
      "City not found. Skipping...\n",
      "Processing Record 24 of Set 9 | grand centre\n",
      "City not found. Skipping...\n",
      "Processing Record 25 of Set 9 | ye\n",
      "City not found. Skipping...\n",
      "Processing Record 26 of Set 9 | pundaguitan\n",
      "Processing Record 27 of Set 9 | vila\n",
      "Processing Record 28 of Set 9 | baykit\n",
      "Processing Record 29 of Set 9 | iquique\n",
      "Processing Record 30 of Set 9 | chalus\n",
      "Processing Record 31 of Set 9 | koroni\n",
      "Processing Record 32 of Set 9 | dzilam gonzalez\n",
      "Processing Record 33 of Set 9 | kysyl-syr\n",
      "Processing Record 34 of Set 9 | takaka\n",
      "Processing Record 35 of Set 9 | biak\n",
      "Processing Record 36 of Set 9 | gobabis\n",
      "Processing Record 37 of Set 9 | toliary\n",
      "City not found. Skipping...\n",
      "Processing Record 38 of Set 9 | latung\n",
      "Processing Record 39 of Set 9 | laziska gorne\n",
      "Processing Record 40 of Set 9 | constitucion\n",
      "Processing Record 41 of Set 9 | kavieng\n",
      "Processing Record 42 of Set 9 | verkhnyaya toyma\n",
      "Processing Record 43 of Set 9 | sherlovaya gora\n",
      "Processing Record 44 of Set 9 | dwarka\n",
      "Processing Record 45 of Set 9 | saleaula\n",
      "City not found. Skipping...\n",
      "Processing Record 46 of Set 9 | touros\n",
      "Processing Record 47 of Set 9 | rungata\n",
      "City not found. Skipping...\n",
      "Processing Record 48 of Set 9 | north bend\n",
      "Processing Record 49 of Set 9 | nouadhibou\n",
      "Processing Record 0 of Set 10 | byron bay\n",
      "Processing Record 1 of Set 10 | yichang\n",
      "Processing Record 2 of Set 10 | brigham city\n",
      "Processing Record 3 of Set 10 | zhigansk\n",
      "Processing Record 4 of Set 10 | shwebo\n",
      "Processing Record 5 of Set 10 | bathsheba\n",
      "Processing Record 6 of Set 10 | addi ugri\n",
      "City not found. Skipping...\n",
      "Processing Record 7 of Set 10 | fort nelson\n",
      "Processing Record 8 of Set 10 | wichian buri\n",
      "Processing Record 9 of Set 10 | paita\n",
      "Processing Record 10 of Set 10 | namibe\n",
      "Processing Record 11 of Set 10 | strzelce krajenskie\n",
      "Processing Record 12 of Set 10 | arkhangelsk\n",
      "Processing Record 13 of Set 10 | lyuban\n",
      "Processing Record 14 of Set 10 | dire\n",
      "Processing Record 15 of Set 10 | port lincoln\n",
      "Processing Record 16 of Set 10 | lianyuan\n",
      "Processing Record 17 of Set 10 | bambanglipuro\n",
      "Processing Record 18 of Set 10 | cedar city\n",
      "Processing Record 19 of Set 10 | asau\n",
      "Processing Record 20 of Set 10 | trinidad\n",
      "Processing Record 21 of Set 10 | hofn\n",
      "Processing Record 22 of Set 10 | casino\n",
      "Processing Record 23 of Set 10 | sorvag\n",
      "City not found. Skipping...\n",
      "Processing Record 24 of Set 10 | port shepstone\n",
      "Processing Record 25 of Set 10 | svetlaya\n",
      "Processing Record 26 of Set 10 | nushki\n",
      "Processing Record 27 of Set 10 | kulhudhuffushi\n",
      "Processing Record 28 of Set 10 | shenjiamen\n",
      "Processing Record 29 of Set 10 | payo\n",
      "Processing Record 30 of Set 10 | cockburn town\n",
      "Processing Record 31 of Set 10 | witu\n",
      "Processing Record 32 of Set 10 | ciudad bolivar\n",
      "Processing Record 33 of Set 10 | channel-port aux basques\n",
      "Processing Record 34 of Set 10 | zhezkazgan\n",
      "Processing Record 35 of Set 10 | burnie\n",
      "Processing Record 36 of Set 10 | poso\n",
      "Processing Record 37 of Set 10 | neuilly-sur-seine\n",
      "Processing Record 38 of Set 10 | ambilobe\n",
      "Processing Record 39 of Set 10 | champerico\n",
      "Processing Record 40 of Set 10 | pangkalanbuun\n",
      "Processing Record 41 of Set 10 | sinnamary\n",
      "Processing Record 42 of Set 10 | mayskiy\n",
      "Processing Record 43 of Set 10 | verkhoyansk\n",
      "Processing Record 44 of Set 10 | derzhavinsk\n",
      "Processing Record 45 of Set 10 | rayadrug\n",
      "Processing Record 46 of Set 10 | hanzhong\n",
      "Processing Record 47 of Set 10 | impfondo\n",
      "Processing Record 48 of Set 10 | kiunga\n",
      "Processing Record 49 of Set 10 | poya\n",
      "Processing Record 0 of Set 11 | ayer itam\n",
      "City not found. Skipping...\n",
      "Processing Record 1 of Set 11 | boyolangu\n",
      "Processing Record 2 of Set 11 | zapolyarnyy\n",
      "Processing Record 3 of Set 11 | augusto correa\n",
      "Processing Record 4 of Set 11 | janauba\n",
      "Processing Record 5 of Set 11 | letka\n",
      "Processing Record 6 of Set 11 | chimbote\n",
      "Processing Record 7 of Set 11 | labelle\n",
      "Processing Record 8 of Set 11 | khudumelapye\n",
      "Processing Record 9 of Set 11 | tsogni\n",
      "Processing Record 10 of Set 11 | verkh-usugli\n",
      "Processing Record 11 of Set 11 | ciechocinek\n",
      "Processing Record 12 of Set 11 | san rafael\n",
      "Processing Record 13 of Set 11 | turgoyak\n",
      "Processing Record 14 of Set 11 | longlac\n",
      "City not found. Skipping...\n",
      "Processing Record 15 of Set 11 | shingu\n",
      "Processing Record 16 of Set 11 | port said\n",
      "Processing Record 17 of Set 11 | menongue\n",
      "Processing Record 18 of Set 11 | sainte-maxime\n",
      "Processing Record 19 of Set 11 | chicama\n",
      "Processing Record 20 of Set 11 | sal rei\n",
      "Processing Record 21 of Set 11 | kurchum\n",
      "Processing Record 22 of Set 11 | talcahuano\n",
      "Processing Record 23 of Set 11 | nguiu\n",
      "City not found. Skipping...\n",
      "Processing Record 24 of Set 11 | inuvik\n",
      "Processing Record 25 of Set 11 | maniitsoq\n",
      "Processing Record 26 of Set 11 | saint-pierre\n",
      "Processing Record 27 of Set 11 | havre-saint-pierre\n",
      "Processing Record 28 of Set 11 | wanning\n",
      "Processing Record 29 of Set 11 | tromso\n",
      "Processing Record 30 of Set 11 | muros\n",
      "Processing Record 31 of Set 11 | dan khun thot\n",
      "Processing Record 32 of Set 11 | egvekinot\n",
      "Processing Record 33 of Set 11 | formoso do araguaia\n",
      "City not found. Skipping...\n",
      "Processing Record 34 of Set 11 | saryshagan\n",
      "City not found. Skipping...\n",
      "Processing Record 35 of Set 11 | ormara\n",
      "Processing Record 36 of Set 11 | kokopo\n",
      "Processing Record 37 of Set 11 | arlit\n",
      "Processing Record 38 of Set 11 | najran\n",
      "Processing Record 39 of Set 11 | uruzgan\n",
      "Processing Record 40 of Set 11 | amarpatan\n",
      "Processing Record 41 of Set 11 | inta\n",
      "Processing Record 42 of Set 11 | terrace bay\n",
      "Processing Record 43 of Set 11 | bridlington\n",
      "Processing Record 44 of Set 11 | yatou\n",
      "Processing Record 45 of Set 11 | tarancon\n",
      "Processing Record 46 of Set 11 | bilma\n",
      "Processing Record 47 of Set 11 | primore\n",
      "City not found. Skipping...\n",
      "Processing Record 48 of Set 11 | sioux lookout\n",
      "Processing Record 49 of Set 11 | brae\n",
      "Processing Record 0 of Set 12 | paciran\n",
      "Processing Record 1 of Set 12 | elizabeth city\n",
      "Processing Record 2 of Set 12 | upernavik\n",
      "Processing Record 3 of Set 12 | olafsvik\n",
      "Processing Record 4 of Set 12 | coos bay\n",
      "Processing Record 5 of Set 12 | tupiza\n",
      "Processing Record 6 of Set 12 | hami\n",
      "Processing Record 7 of Set 12 | palmares\n",
      "Processing Record 8 of Set 12 | lolua\n",
      "City not found. Skipping...\n",
      "Processing Record 9 of Set 12 | vestmannaeyjar\n",
      "Processing Record 10 of Set 12 | bud\n",
      "Processing Record 11 of Set 12 | cenotillo\n",
      "Processing Record 12 of Set 12 | weligama\n",
      "Processing Record 13 of Set 12 | buala\n",
      "Processing Record 14 of Set 12 | elko\n",
      "Processing Record 15 of Set 12 | dickinson\n",
      "Processing Record 16 of Set 12 | puerto del rosario\n",
      "Processing Record 17 of Set 12 | newtonmore\n"
     ]
    },
    {
     "name": "stdout",
     "output_type": "stream",
     "text": [
      "Processing Record 18 of Set 12 | tecoanapa\n",
      "Processing Record 19 of Set 12 | adra\n",
      "Processing Record 20 of Set 12 | port blair\n",
      "Processing Record 21 of Set 12 | lincoln\n",
      "Processing Record 22 of Set 12 | adre\n",
      "Processing Record 23 of Set 12 | wexford\n",
      "Processing Record 24 of Set 12 | garwa\n",
      "Processing Record 25 of Set 12 | qaqortoq\n",
      "Processing Record 26 of Set 12 | oranjemund\n",
      "Processing Record 27 of Set 12 | nhulunbuy\n",
      "Processing Record 28 of Set 12 | segou\n",
      "Processing Record 29 of Set 12 | syriam\n",
      "Processing Record 30 of Set 12 | awbari\n",
      "Processing Record 31 of Set 12 | kampot\n",
      "Processing Record 32 of Set 12 | falealupo\n",
      "City not found. Skipping...\n",
      "Processing Record 33 of Set 12 | hastings\n",
      "Processing Record 34 of Set 12 | rujiena\n",
      "Processing Record 35 of Set 12 | sudbury\n",
      "Processing Record 36 of Set 12 | seymchan\n",
      "Processing Record 37 of Set 12 | winnemucca\n",
      "Processing Record 38 of Set 12 | hambantota\n",
      "Processing Record 39 of Set 12 | sebastian\n",
      "Processing Record 40 of Set 12 | broome\n",
      "Processing Record 41 of Set 12 | samarai\n",
      "Processing Record 42 of Set 12 | lazarev\n",
      "Processing Record 43 of Set 12 | kalivai poliyirou\n",
      "City not found. Skipping...\n",
      "Processing Record 44 of Set 12 | buin\n",
      "Processing Record 45 of Set 12 | belyy yar\n",
      "Processing Record 46 of Set 12 | igarka\n",
      "Processing Record 47 of Set 12 | moroni\n",
      "Processing Record 48 of Set 12 | guatire\n",
      "Processing Record 49 of Set 12 | rio verde de mato grosso\n",
      "Processing Record 0 of Set 13 | sao joaquim\n",
      "Processing Record 1 of Set 13 | olinda\n",
      "Processing Record 2 of Set 13 | male\n",
      "Processing Record 3 of Set 13 | necochea\n",
      "Processing Record 4 of Set 13 | westport\n",
      "Processing Record 5 of Set 13 | palmer\n",
      "Processing Record 6 of Set 13 | edson\n",
      "Processing Record 7 of Set 13 | colesberg\n",
      "Processing Record 8 of Set 13 | kumo\n",
      "Processing Record 9 of Set 13 | katherine\n",
      "Processing Record 10 of Set 13 | iranshahr\n",
      "Processing Record 11 of Set 13 | parras\n",
      "City not found. Skipping...\n",
      "Processing Record 12 of Set 13 | prieska\n",
      "Processing Record 13 of Set 13 | mardin\n",
      "Processing Record 14 of Set 13 | samana\n",
      "Processing Record 15 of Set 13 | agua prieta\n",
      "-----------------------------\n",
      "Data Retrieval Complete      \n",
      "-----------------------------\n"
     ]
    }
   ],
   "source": [
    "# Starting URL for Weather Map API Call\n",
    "url = \"http://api.openweathermap.org/data/2.5/weather?units=Imperial&APPID=\" + weather_api_key \n",
    "\n",
    "# List of city data\n",
    "city_data = []\n",
    "\n",
    "# Print to logger\n",
    "print(\"Beginning Data Retrieval     \")\n",
    "print(\"-----------------------------\")\n",
    "\n",
    "# Create counters\n",
    "record_count = 1\n",
    "set_count = 1\n",
    "\n",
    "# Loop through all the cities in our list\n",
    "for i, city in enumerate(cities):\n",
    "        \n",
    "    # Group cities in sets of 50 for logging purposes\n",
    "    if (i % 50 == 0 and i >= 50):\n",
    "        set_count += 1\n",
    "        record_count = 0\n",
    "\n",
    "    # Create endpoint URL with each city\n",
    "    city_url = url + \"&q=\" + city\n",
    "    \n",
    "    # Log the url, record, and set numbers\n",
    "    print(\"Processing Record %s of Set %s | %s\" % (record_count, set_count, city))\n",
    "\n",
    "    # Add 1 to the record count\n",
    "    record_count += 1\n",
    "\n",
    "    # Run an API request for each of the cities\n",
    "    try:\n",
    "        # Parse the JSON and retrieve data\n",
    "        city_weather = requests.get(city_url).json()\n",
    "\n",
    "        # Parse out the max temp, humidity, and cloudiness\n",
    "        city_lat = city_weather[\"coord\"][\"lat\"]\n",
    "        city_lng = city_weather[\"coord\"][\"lon\"]\n",
    "        city_max_temp = city_weather[\"main\"][\"temp_max\"]\n",
    "        city_humidity = city_weather[\"main\"][\"humidity\"]\n",
    "        city_clouds = city_weather[\"clouds\"][\"all\"]\n",
    "        city_wind = city_weather[\"wind\"][\"speed\"]\n",
    "        city_country = city_weather[\"sys\"][\"country\"]\n",
    "        city_date = city_weather[\"dt\"]\n",
    "\n",
    "        # Append the City information into city_data list\n",
    "        city_data.append({\"City\": city, \n",
    "                          \"Lat\": city_lat, \n",
    "                          \"Lng\": city_lng, \n",
    "                          \"Max Temp\": city_max_temp,\n",
    "                          \"Humidity\": city_humidity,\n",
    "                          \"Cloudiness\": city_clouds,\n",
    "                          \"Wind Speed\": city_wind,\n",
    "                          \"Country\": city_country,\n",
    "                          \"Date\": city_date})\n",
    "\n",
    "    # If an error is experienced, skip the city\n",
    "    except:\n",
    "        print(\"City not found. Skipping...\")\n",
    "        pass\n",
    "              \n",
    "# Indicate that Data Loading is complete \n",
    "print(\"-----------------------------\")\n",
    "print(\"Data Retrieval Complete      \")\n",
    "print(\"-----------------------------\")\n",
    "        \n",
    "        "
   ]
  },
  {
   "cell_type": "code",
   "execution_count": 5,
   "metadata": {},
   "outputs": [
    {
     "data": {
      "text/plain": [
       "City          566\n",
       "Lat           566\n",
       "Lng           566\n",
       "Max Temp      566\n",
       "Humidity      566\n",
       "Cloudiness    566\n",
       "Wind Speed    566\n",
       "Country       566\n",
       "Date          566\n",
       "dtype: int64"
      ]
     },
     "execution_count": 5,
     "metadata": {},
     "output_type": "execute_result"
    }
   ],
   "source": [
    "# Convert array of JSONs into Pandas DataFrame\n",
    "city_data_pd = pd.DataFrame(city_data)\n",
    "\n",
    "# Show Record Count\n",
    "city_data_pd.count()"
   ]
  },
  {
   "cell_type": "code",
   "execution_count": 10,
   "metadata": {},
   "outputs": [
    {
     "data": {
      "text/html": [
       "<div>\n",
       "<style scoped>\n",
       "    .dataframe tbody tr th:only-of-type {\n",
       "        vertical-align: middle;\n",
       "    }\n",
       "\n",
       "    .dataframe tbody tr th {\n",
       "        vertical-align: top;\n",
       "    }\n",
       "\n",
       "    .dataframe thead th {\n",
       "        text-align: right;\n",
       "    }\n",
       "</style>\n",
       "<table border=\"1\" class=\"dataframe\">\n",
       "  <thead>\n",
       "    <tr style=\"text-align: right;\">\n",
       "      <th></th>\n",
       "      <th>City</th>\n",
       "      <th>Lat</th>\n",
       "      <th>Lng</th>\n",
       "      <th>Max Temp</th>\n",
       "      <th>Humidity</th>\n",
       "      <th>Cloudiness</th>\n",
       "      <th>Wind Speed</th>\n",
       "      <th>Country</th>\n",
       "      <th>Date</th>\n",
       "    </tr>\n",
       "  </thead>\n",
       "  <tbody>\n",
       "    <tr>\n",
       "      <th>0</th>\n",
       "      <td>bredasdorp</td>\n",
       "      <td>-34.53</td>\n",
       "      <td>20.04</td>\n",
       "      <td>39.20</td>\n",
       "      <td>93</td>\n",
       "      <td>0</td>\n",
       "      <td>5.23</td>\n",
       "      <td>ZA</td>\n",
       "      <td>1592438527</td>\n",
       "    </tr>\n",
       "    <tr>\n",
       "      <th>1</th>\n",
       "      <td>tuktoyaktuk</td>\n",
       "      <td>69.45</td>\n",
       "      <td>-133.04</td>\n",
       "      <td>44.60</td>\n",
       "      <td>93</td>\n",
       "      <td>75</td>\n",
       "      <td>10.29</td>\n",
       "      <td>CA</td>\n",
       "      <td>1592438527</td>\n",
       "    </tr>\n",
       "    <tr>\n",
       "      <th>2</th>\n",
       "      <td>mnogovershinnyy</td>\n",
       "      <td>53.94</td>\n",
       "      <td>139.92</td>\n",
       "      <td>40.69</td>\n",
       "      <td>98</td>\n",
       "      <td>100</td>\n",
       "      <td>4.29</td>\n",
       "      <td>RU</td>\n",
       "      <td>1592438527</td>\n",
       "    </tr>\n",
       "    <tr>\n",
       "      <th>3</th>\n",
       "      <td>mareeba</td>\n",
       "      <td>-17.00</td>\n",
       "      <td>145.43</td>\n",
       "      <td>75.00</td>\n",
       "      <td>80</td>\n",
       "      <td>99</td>\n",
       "      <td>5.01</td>\n",
       "      <td>AU</td>\n",
       "      <td>1592438527</td>\n",
       "    </tr>\n",
       "    <tr>\n",
       "      <th>4</th>\n",
       "      <td>mataura</td>\n",
       "      <td>-46.19</td>\n",
       "      <td>168.86</td>\n",
       "      <td>39.00</td>\n",
       "      <td>83</td>\n",
       "      <td>4</td>\n",
       "      <td>3.00</td>\n",
       "      <td>NZ</td>\n",
       "      <td>1592438527</td>\n",
       "    </tr>\n",
       "    <tr>\n",
       "      <th>5</th>\n",
       "      <td>maragogi</td>\n",
       "      <td>-9.01</td>\n",
       "      <td>-35.22</td>\n",
       "      <td>75.38</td>\n",
       "      <td>81</td>\n",
       "      <td>16</td>\n",
       "      <td>8.86</td>\n",
       "      <td>BR</td>\n",
       "      <td>1592438237</td>\n",
       "    </tr>\n",
       "    <tr>\n",
       "      <th>6</th>\n",
       "      <td>hobart</td>\n",
       "      <td>-42.88</td>\n",
       "      <td>147.33</td>\n",
       "      <td>37.40</td>\n",
       "      <td>86</td>\n",
       "      <td>20</td>\n",
       "      <td>6.93</td>\n",
       "      <td>AU</td>\n",
       "      <td>1592438231</td>\n",
       "    </tr>\n",
       "    <tr>\n",
       "      <th>7</th>\n",
       "      <td>kirakira</td>\n",
       "      <td>-10.45</td>\n",
       "      <td>161.92</td>\n",
       "      <td>83.86</td>\n",
       "      <td>74</td>\n",
       "      <td>20</td>\n",
       "      <td>8.10</td>\n",
       "      <td>SB</td>\n",
       "      <td>1592438527</td>\n",
       "    </tr>\n",
       "    <tr>\n",
       "      <th>8</th>\n",
       "      <td>atuona</td>\n",
       "      <td>-9.80</td>\n",
       "      <td>-139.03</td>\n",
       "      <td>80.85</td>\n",
       "      <td>72</td>\n",
       "      <td>1</td>\n",
       "      <td>13.85</td>\n",
       "      <td>PF</td>\n",
       "      <td>1592438528</td>\n",
       "    </tr>\n",
       "    <tr>\n",
       "      <th>9</th>\n",
       "      <td>rikitea</td>\n",
       "      <td>-23.12</td>\n",
       "      <td>-134.97</td>\n",
       "      <td>75.63</td>\n",
       "      <td>80</td>\n",
       "      <td>62</td>\n",
       "      <td>15.97</td>\n",
       "      <td>PF</td>\n",
       "      <td>1592438528</td>\n",
       "    </tr>\n",
       "    <tr>\n",
       "      <th>10</th>\n",
       "      <td>dikson</td>\n",
       "      <td>73.51</td>\n",
       "      <td>80.55</td>\n",
       "      <td>33.62</td>\n",
       "      <td>89</td>\n",
       "      <td>92</td>\n",
       "      <td>4.63</td>\n",
       "      <td>RU</td>\n",
       "      <td>1592438528</td>\n",
       "    </tr>\n",
       "    <tr>\n",
       "      <th>11</th>\n",
       "      <td>puerto ayora</td>\n",
       "      <td>-0.74</td>\n",
       "      <td>-90.35</td>\n",
       "      <td>69.01</td>\n",
       "      <td>92</td>\n",
       "      <td>71</td>\n",
       "      <td>3.00</td>\n",
       "      <td>EC</td>\n",
       "      <td>1592438528</td>\n",
       "    </tr>\n",
       "    <tr>\n",
       "      <th>12</th>\n",
       "      <td>inhambane</td>\n",
       "      <td>-23.86</td>\n",
       "      <td>35.38</td>\n",
       "      <td>66.69</td>\n",
       "      <td>79</td>\n",
       "      <td>47</td>\n",
       "      <td>12.55</td>\n",
       "      <td>MZ</td>\n",
       "      <td>1592438528</td>\n",
       "    </tr>\n",
       "    <tr>\n",
       "      <th>13</th>\n",
       "      <td>sitka</td>\n",
       "      <td>57.05</td>\n",
       "      <td>-135.33</td>\n",
       "      <td>55.40</td>\n",
       "      <td>66</td>\n",
       "      <td>90</td>\n",
       "      <td>10.29</td>\n",
       "      <td>US</td>\n",
       "      <td>1592438453</td>\n",
       "    </tr>\n",
       "    <tr>\n",
       "      <th>14</th>\n",
       "      <td>oxapampa</td>\n",
       "      <td>-10.58</td>\n",
       "      <td>-75.40</td>\n",
       "      <td>60.48</td>\n",
       "      <td>90</td>\n",
       "      <td>74</td>\n",
       "      <td>1.12</td>\n",
       "      <td>PE</td>\n",
       "      <td>1592438528</td>\n",
       "    </tr>\n",
       "    <tr>\n",
       "      <th>15</th>\n",
       "      <td>filingue</td>\n",
       "      <td>14.35</td>\n",
       "      <td>3.32</td>\n",
       "      <td>89.55</td>\n",
       "      <td>42</td>\n",
       "      <td>74</td>\n",
       "      <td>16.80</td>\n",
       "      <td>NE</td>\n",
       "      <td>1592438528</td>\n",
       "    </tr>\n",
       "    <tr>\n",
       "      <th>16</th>\n",
       "      <td>butaritari</td>\n",
       "      <td>3.07</td>\n",
       "      <td>172.79</td>\n",
       "      <td>82.76</td>\n",
       "      <td>76</td>\n",
       "      <td>20</td>\n",
       "      <td>12.37</td>\n",
       "      <td>KI</td>\n",
       "      <td>1592438290</td>\n",
       "    </tr>\n",
       "    <tr>\n",
       "      <th>17</th>\n",
       "      <td>san vicente</td>\n",
       "      <td>-26.62</td>\n",
       "      <td>-54.13</td>\n",
       "      <td>65.64</td>\n",
       "      <td>81</td>\n",
       "      <td>21</td>\n",
       "      <td>7.47</td>\n",
       "      <td>AR</td>\n",
       "      <td>1592438529</td>\n",
       "    </tr>\n",
       "    <tr>\n",
       "      <th>18</th>\n",
       "      <td>ushuaia</td>\n",
       "      <td>-54.80</td>\n",
       "      <td>-68.30</td>\n",
       "      <td>35.60</td>\n",
       "      <td>80</td>\n",
       "      <td>57</td>\n",
       "      <td>6.93</td>\n",
       "      <td>AR</td>\n",
       "      <td>1592438529</td>\n",
       "    </tr>\n",
       "    <tr>\n",
       "      <th>19</th>\n",
       "      <td>clyde river</td>\n",
       "      <td>70.47</td>\n",
       "      <td>-68.59</td>\n",
       "      <td>33.80</td>\n",
       "      <td>85</td>\n",
       "      <td>90</td>\n",
       "      <td>3.36</td>\n",
       "      <td>CA</td>\n",
       "      <td>1592438529</td>\n",
       "    </tr>\n",
       "  </tbody>\n",
       "</table>\n",
       "</div>"
      ],
      "text/plain": [
       "               City    Lat     Lng  Max Temp  Humidity  Cloudiness  \\\n",
       "0        bredasdorp -34.53   20.04     39.20        93           0   \n",
       "1       tuktoyaktuk  69.45 -133.04     44.60        93          75   \n",
       "2   mnogovershinnyy  53.94  139.92     40.69        98         100   \n",
       "3           mareeba -17.00  145.43     75.00        80          99   \n",
       "4           mataura -46.19  168.86     39.00        83           4   \n",
       "5          maragogi  -9.01  -35.22     75.38        81          16   \n",
       "6            hobart -42.88  147.33     37.40        86          20   \n",
       "7          kirakira -10.45  161.92     83.86        74          20   \n",
       "8            atuona  -9.80 -139.03     80.85        72           1   \n",
       "9           rikitea -23.12 -134.97     75.63        80          62   \n",
       "10           dikson  73.51   80.55     33.62        89          92   \n",
       "11     puerto ayora  -0.74  -90.35     69.01        92          71   \n",
       "12        inhambane -23.86   35.38     66.69        79          47   \n",
       "13            sitka  57.05 -135.33     55.40        66          90   \n",
       "14         oxapampa -10.58  -75.40     60.48        90          74   \n",
       "15         filingue  14.35    3.32     89.55        42          74   \n",
       "16       butaritari   3.07  172.79     82.76        76          20   \n",
       "17      san vicente -26.62  -54.13     65.64        81          21   \n",
       "18          ushuaia -54.80  -68.30     35.60        80          57   \n",
       "19      clyde river  70.47  -68.59     33.80        85          90   \n",
       "\n",
       "    Wind Speed Country        Date  \n",
       "0         5.23      ZA  1592438527  \n",
       "1        10.29      CA  1592438527  \n",
       "2         4.29      RU  1592438527  \n",
       "3         5.01      AU  1592438527  \n",
       "4         3.00      NZ  1592438527  \n",
       "5         8.86      BR  1592438237  \n",
       "6         6.93      AU  1592438231  \n",
       "7         8.10      SB  1592438527  \n",
       "8        13.85      PF  1592438528  \n",
       "9        15.97      PF  1592438528  \n",
       "10        4.63      RU  1592438528  \n",
       "11        3.00      EC  1592438528  \n",
       "12       12.55      MZ  1592438528  \n",
       "13       10.29      US  1592438453  \n",
       "14        1.12      PE  1592438528  \n",
       "15       16.80      NE  1592438528  \n",
       "16       12.37      KI  1592438290  \n",
       "17        7.47      AR  1592438529  \n",
       "18        6.93      AR  1592438529  \n",
       "19        3.36      CA  1592438529  "
      ]
     },
     "execution_count": 10,
     "metadata": {},
     "output_type": "execute_result"
    }
   ],
   "source": [
    "# Display the City Data Frame\n",
    "city_data_pd.head(20)"
   ]
  },
  {
   "cell_type": "markdown",
   "metadata": {},
   "source": [
    "## Inspect the data and remove the cities where the humidity > 100%.\n",
    "----\n",
    "Skip this step if there are no cities that have humidity > 100%. "
   ]
  },
  {
   "cell_type": "code",
   "execution_count": 11,
   "metadata": {},
   "outputs": [
    {
     "data": {
      "text/html": [
       "<div>\n",
       "<style scoped>\n",
       "    .dataframe tbody tr th:only-of-type {\n",
       "        vertical-align: middle;\n",
       "    }\n",
       "\n",
       "    .dataframe tbody tr th {\n",
       "        vertical-align: top;\n",
       "    }\n",
       "\n",
       "    .dataframe thead th {\n",
       "        text-align: right;\n",
       "    }\n",
       "</style>\n",
       "<table border=\"1\" class=\"dataframe\">\n",
       "  <thead>\n",
       "    <tr style=\"text-align: right;\">\n",
       "      <th></th>\n",
       "      <th>Lat</th>\n",
       "      <th>Lng</th>\n",
       "      <th>Max Temp</th>\n",
       "      <th>Humidity</th>\n",
       "      <th>Cloudiness</th>\n",
       "      <th>Wind Speed</th>\n",
       "      <th>Date</th>\n",
       "    </tr>\n",
       "  </thead>\n",
       "  <tbody>\n",
       "    <tr>\n",
       "      <th>count</th>\n",
       "      <td>566.000000</td>\n",
       "      <td>566.000000</td>\n",
       "      <td>566.000000</td>\n",
       "      <td>566.000000</td>\n",
       "      <td>566.000000</td>\n",
       "      <td>566.000000</td>\n",
       "      <td>5.660000e+02</td>\n",
       "    </tr>\n",
       "    <tr>\n",
       "      <th>mean</th>\n",
       "      <td>19.830989</td>\n",
       "      <td>17.151166</td>\n",
       "      <td>67.685671</td>\n",
       "      <td>70.757951</td>\n",
       "      <td>48.125442</td>\n",
       "      <td>8.309753</td>\n",
       "      <td>1.592439e+09</td>\n",
       "    </tr>\n",
       "    <tr>\n",
       "      <th>std</th>\n",
       "      <td>33.047715</td>\n",
       "      <td>90.718867</td>\n",
       "      <td>14.189776</td>\n",
       "      <td>21.264114</td>\n",
       "      <td>37.501530</td>\n",
       "      <td>5.141994</td>\n",
       "      <td>7.706245e+01</td>\n",
       "    </tr>\n",
       "    <tr>\n",
       "      <th>min</th>\n",
       "      <td>-54.800000</td>\n",
       "      <td>-179.170000</td>\n",
       "      <td>28.400000</td>\n",
       "      <td>9.000000</td>\n",
       "      <td>0.000000</td>\n",
       "      <td>0.250000</td>\n",
       "      <td>1.592438e+09</td>\n",
       "    </tr>\n",
       "    <tr>\n",
       "      <th>25%</th>\n",
       "      <td>-8.092500</td>\n",
       "      <td>-61.522500</td>\n",
       "      <td>57.200000</td>\n",
       "      <td>60.000000</td>\n",
       "      <td>9.250000</td>\n",
       "      <td>4.470000</td>\n",
       "      <td>1.592439e+09</td>\n",
       "    </tr>\n",
       "    <tr>\n",
       "      <th>50%</th>\n",
       "      <td>20.995000</td>\n",
       "      <td>18.965000</td>\n",
       "      <td>69.800000</td>\n",
       "      <td>77.000000</td>\n",
       "      <td>44.000000</td>\n",
       "      <td>7.450000</td>\n",
       "      <td>1.592439e+09</td>\n",
       "    </tr>\n",
       "    <tr>\n",
       "      <th>75%</th>\n",
       "      <td>48.672500</td>\n",
       "      <td>97.352500</td>\n",
       "      <td>79.402500</td>\n",
       "      <td>86.750000</td>\n",
       "      <td>86.000000</td>\n",
       "      <td>11.410000</td>\n",
       "      <td>1.592439e+09</td>\n",
       "    </tr>\n",
       "    <tr>\n",
       "      <th>max</th>\n",
       "      <td>78.220000</td>\n",
       "      <td>178.420000</td>\n",
       "      <td>104.000000</td>\n",
       "      <td>100.000000</td>\n",
       "      <td>100.000000</td>\n",
       "      <td>25.280000</td>\n",
       "      <td>1.592439e+09</td>\n",
       "    </tr>\n",
       "  </tbody>\n",
       "</table>\n",
       "</div>"
      ],
      "text/plain": [
       "              Lat         Lng    Max Temp    Humidity  Cloudiness  Wind Speed  \\\n",
       "count  566.000000  566.000000  566.000000  566.000000  566.000000  566.000000   \n",
       "mean    19.830989   17.151166   67.685671   70.757951   48.125442    8.309753   \n",
       "std     33.047715   90.718867   14.189776   21.264114   37.501530    5.141994   \n",
       "min    -54.800000 -179.170000   28.400000    9.000000    0.000000    0.250000   \n",
       "25%     -8.092500  -61.522500   57.200000   60.000000    9.250000    4.470000   \n",
       "50%     20.995000   18.965000   69.800000   77.000000   44.000000    7.450000   \n",
       "75%     48.672500   97.352500   79.402500   86.750000   86.000000   11.410000   \n",
       "max     78.220000  178.420000  104.000000  100.000000  100.000000   25.280000   \n",
       "\n",
       "               Date  \n",
       "count  5.660000e+02  \n",
       "mean   1.592439e+09  \n",
       "std    7.706245e+01  \n",
       "min    1.592438e+09  \n",
       "25%    1.592439e+09  \n",
       "50%    1.592439e+09  \n",
       "75%    1.592439e+09  \n",
       "max    1.592439e+09  "
      ]
     },
     "execution_count": 11,
     "metadata": {},
     "output_type": "execute_result"
    }
   ],
   "source": [
    "city_data_pd.describe()"
   ]
  },
  {
   "cell_type": "code",
   "execution_count": 12,
   "metadata": {},
   "outputs": [
    {
     "data": {
      "text/plain": [
       "Int64Index([], dtype='int64')"
      ]
     },
     "execution_count": 12,
     "metadata": {},
     "output_type": "execute_result"
    }
   ],
   "source": [
    "#  Get the indices of cities that have humidity over 100%.\n",
    "dirty_city_data = city_data_pd[(city_data_pd[\"Humidity\"] > 100)].index\n",
    "                                  \n",
    "dirty_city_data"
   ]
  },
  {
   "cell_type": "code",
   "execution_count": 13,
   "metadata": {},
   "outputs": [
    {
     "data": {
      "text/html": [
       "<div>\n",
       "<style scoped>\n",
       "    .dataframe tbody tr th:only-of-type {\n",
       "        vertical-align: middle;\n",
       "    }\n",
       "\n",
       "    .dataframe tbody tr th {\n",
       "        vertical-align: top;\n",
       "    }\n",
       "\n",
       "    .dataframe thead th {\n",
       "        text-align: right;\n",
       "    }\n",
       "</style>\n",
       "<table border=\"1\" class=\"dataframe\">\n",
       "  <thead>\n",
       "    <tr style=\"text-align: right;\">\n",
       "      <th></th>\n",
       "      <th>City</th>\n",
       "      <th>Lat</th>\n",
       "      <th>Lng</th>\n",
       "      <th>Max Temp</th>\n",
       "      <th>Humidity</th>\n",
       "      <th>Cloudiness</th>\n",
       "      <th>Wind Speed</th>\n",
       "      <th>Country</th>\n",
       "      <th>Date</th>\n",
       "    </tr>\n",
       "  </thead>\n",
       "  <tbody>\n",
       "    <tr>\n",
       "      <th>0</th>\n",
       "      <td>bredasdorp</td>\n",
       "      <td>-34.53</td>\n",
       "      <td>20.04</td>\n",
       "      <td>39.20</td>\n",
       "      <td>93</td>\n",
       "      <td>0</td>\n",
       "      <td>5.23</td>\n",
       "      <td>ZA</td>\n",
       "      <td>1592438527</td>\n",
       "    </tr>\n",
       "    <tr>\n",
       "      <th>1</th>\n",
       "      <td>tuktoyaktuk</td>\n",
       "      <td>69.45</td>\n",
       "      <td>-133.04</td>\n",
       "      <td>44.60</td>\n",
       "      <td>93</td>\n",
       "      <td>75</td>\n",
       "      <td>10.29</td>\n",
       "      <td>CA</td>\n",
       "      <td>1592438527</td>\n",
       "    </tr>\n",
       "    <tr>\n",
       "      <th>2</th>\n",
       "      <td>mnogovershinnyy</td>\n",
       "      <td>53.94</td>\n",
       "      <td>139.92</td>\n",
       "      <td>40.69</td>\n",
       "      <td>98</td>\n",
       "      <td>100</td>\n",
       "      <td>4.29</td>\n",
       "      <td>RU</td>\n",
       "      <td>1592438527</td>\n",
       "    </tr>\n",
       "    <tr>\n",
       "      <th>3</th>\n",
       "      <td>mareeba</td>\n",
       "      <td>-17.00</td>\n",
       "      <td>145.43</td>\n",
       "      <td>75.00</td>\n",
       "      <td>80</td>\n",
       "      <td>99</td>\n",
       "      <td>5.01</td>\n",
       "      <td>AU</td>\n",
       "      <td>1592438527</td>\n",
       "    </tr>\n",
       "    <tr>\n",
       "      <th>4</th>\n",
       "      <td>mataura</td>\n",
       "      <td>-46.19</td>\n",
       "      <td>168.86</td>\n",
       "      <td>39.00</td>\n",
       "      <td>83</td>\n",
       "      <td>4</td>\n",
       "      <td>3.00</td>\n",
       "      <td>NZ</td>\n",
       "      <td>1592438527</td>\n",
       "    </tr>\n",
       "  </tbody>\n",
       "</table>\n",
       "</div>"
      ],
      "text/plain": [
       "              City    Lat     Lng  Max Temp  Humidity  Cloudiness  Wind Speed  \\\n",
       "0       bredasdorp -34.53   20.04     39.20        93           0        5.23   \n",
       "1      tuktoyaktuk  69.45 -133.04     44.60        93          75       10.29   \n",
       "2  mnogovershinnyy  53.94  139.92     40.69        98         100        4.29   \n",
       "3          mareeba -17.00  145.43     75.00        80          99        5.01   \n",
       "4          mataura -46.19  168.86     39.00        83           4        3.00   \n",
       "\n",
       "  Country        Date  \n",
       "0      ZA  1592438527  \n",
       "1      CA  1592438527  \n",
       "2      RU  1592438527  \n",
       "3      AU  1592438527  \n",
       "4      NZ  1592438527  "
      ]
     },
     "execution_count": 13,
     "metadata": {},
     "output_type": "execute_result"
    }
   ],
   "source": [
    "# Make a new DataFrame equal to the city data to drop all humidity outliers by index.\n",
    "# Passing \"inplace=False\" will make a copy of the city_data DataFrame, which we call \"clean_city_data\".\n",
    "clean_city_data = city_data_pd.drop(dirty_city_data, inplace=False)\n",
    "clean_city_data.head()"
   ]
  },
  {
   "cell_type": "code",
   "execution_count": 14,
   "metadata": {},
   "outputs": [],
   "source": [
    "# Extract relevant fields from the data frame\n",
    "lats = clean_city_data[\"Lat\"]\n",
    "max_temps = clean_city_data[\"Max Temp\"]\n",
    "humidity = clean_city_data[\"Humidity\"]\n",
    "cloudiness = clean_city_data[\"Cloudiness\"]\n",
    "wind_speed = clean_city_data[\"Wind Speed\"]\n",
    "\n",
    "# Export the City_Data into a csv\n",
    "clean_city_data.to_csv(output_data_file, index_label=\"City_ID\")"
   ]
  },
  {
   "cell_type": "code",
   "execution_count": 26,
   "metadata": {},
   "outputs": [],
   "source": [
    "html = clean_city_data.to_html(escape=True)"
   ]
  },
  {
   "cell_type": "code",
   "execution_count": 27,
   "metadata": {},
   "outputs": [],
   "source": [
    "text_file = open(\"index.html\", \"w\")\n",
    "text_file.write(html)\n",
    "text_file.close()"
   ]
  },
  {
   "cell_type": "code",
   "execution_count": null,
   "metadata": {},
   "outputs": [],
   "source": []
  },
  {
   "cell_type": "markdown",
   "metadata": {},
   "source": [
    "## Latitude vs. Temperature Plot"
   ]
  },
  {
   "cell_type": "code",
   "execution_count": 15,
   "metadata": {
    "scrolled": true
   },
   "outputs": [
    {
     "data": {
      "image/png": "[encoded data removed]",
      "text/plain": [
       "<Figure size 432x288 with 1 Axes>"
      ]
     },
     "metadata": {
      "needs_background": "light"
     },
     "output_type": "display_data"
    }
   ],
   "source": [
    "# Build scatter plot for latitude vs. temperature\n",
    "plt.scatter(lats, \n",
    "            max_temps,\n",
    "            edgecolor=\"black\", linewidths=1, marker=\"o\", \n",
    "            alpha=0.8, label=\"Cities\")\n",
    "\n",
    "# Incorporate the other graph properties\n",
    "plt.title(\"City Latitude vs. Max Temperature (%s)\" % time.strftime(\"%x\"))\n",
    "plt.ylabel(\"Max Temperature (F)\")\n",
    "plt.xlabel(\"Latitude\")\n",
    "plt.grid(True)\n",
    "\n",
    "# Save the figure\n",
    "plt.savefig(\"output_data/LatTemp.png\")\n",
    "\n",
    "# Show plot\n",
    "plt.show()"
   ]
  },
  {
   "cell_type": "code",
   "execution_count": 16,
   "metadata": {},
   "outputs": [],
   "source": [
    "#There is a trend shown here where max temperatures increase the closer the latitude gets to 0, or the equator."
   ]
  },
  {
   "cell_type": "markdown",
   "metadata": {},
   "source": [
    "## Latitude vs. Humidity Plot"
   ]
  },
  {
   "cell_type": "code",
   "execution_count": 17,
   "metadata": {},
   "outputs": [
    {
     "data": {
      "image/png": "[encoded data removed]",
      "text/plain": [
       "<Figure size 432x288 with 1 Axes>"
      ]
     },
     "metadata": {
      "needs_background": "light"
     },
     "output_type": "display_data"
    }
   ],
   "source": [
    "# Build the scatter plots for latitude vs. humidity\n",
    "plt.scatter(lats, \n",
    "            humidity,\n",
    "            edgecolor=\"black\", linewidths=1, marker=\"o\", \n",
    "            alpha=0.8, label=\"Cities\")\n",
    "\n",
    "# Incorporate the other graph properties\n",
    "plt.title(\"City Latitude vs. Humidity (%s)\" % time.strftime(\"%x\"))\n",
    "plt.ylabel(\"Humidity (%)\")\n",
    "plt.xlabel(\"Latitude\")\n",
    "plt.grid(True)\n",
    "\n",
    "# Save the figure\n",
    "plt.savefig(\"output_data/LatHumidity.png\")\n",
    "\n",
    "# Show plot\n",
    "plt.show()"
   ]
  },
  {
   "cell_type": "code",
   "execution_count": 18,
   "metadata": {},
   "outputs": [],
   "source": [
    "#There does not seem to be any noticeable pattern or correlation between latitude and humidity,"
   ]
  },
  {
   "cell_type": "markdown",
   "metadata": {},
   "source": [
    "## Latitude vs. Cloudiness Plot"
   ]
  },
  {
   "cell_type": "code",
   "execution_count": 19,
   "metadata": {},
   "outputs": [
    {
     "data": {
      "image/png": "[encoded data removed]",
      "text/plain": [
       "<Figure size 432x288 with 1 Axes>"
      ]
     },
     "metadata": {
      "needs_background": "light"
     },
     "output_type": "display_data"
    }
   ],
   "source": [
    "# Build the scatter plots for latitude vs. cloudiness\n",
    "plt.scatter(lats, \n",
    "            cloudiness,\n",
    "            edgecolor=\"black\", linewidths=1, marker=\"o\", \n",
    "            alpha=0.8, label=\"Cities\")\n",
    "\n",
    "# Incorporate the other graph properties\n",
    "plt.title(\"City Latitude vs. Cloudiness (%s)\" % time.strftime(\"%x\"))\n",
    "plt.ylabel(\"Cloudiness (%)\")\n",
    "plt.xlabel(\"Latitude\")\n",
    "plt.grid(True)\n",
    "\n",
    "# Save the figure\n",
    "plt.savefig(\"output_data/LatClouds.png\")\n",
    "\n",
    "# Show plot\n",
    "plt.show()"
   ]
  },
  {
   "cell_type": "code",
   "execution_count": 20,
   "metadata": {},
   "outputs": [],
   "source": [
    "#There looks to be a large amount of cities that have cloudiness percentages near 0% and 100% as shown by the lines at those y values."
   ]
  },
  {
   "cell_type": "markdown",
   "metadata": {},
   "source": [
    "## Latitude vs. Wind Speed Plot"
   ]
  },
  {
   "cell_type": "code",
   "execution_count": 21,
   "metadata": {},
   "outputs": [
    {
     "data": {
      "image/png": "[encoded data removed]",
      "text/plain": [
       "<Figure size 432x288 with 1 Axes>"
      ]
     },
     "metadata": {
      "needs_background": "light"
     },
     "output_type": "display_data"
    }
   ],
   "source": [
    "# Build the scatter plots for latitude vs. wind speed\n",
    "plt.scatter(lats, \n",
    "            wind_speed,\n",
    "            edgecolor=\"black\", linewidths=1, marker=\"o\", \n",
    "            alpha=0.8, label=\"Cities\")\n",
    "\n",
    "# Incorporate the other graph properties\n",
    "plt.title(\"City Latitude vs. Wind Speed (%s)\" % time.strftime(\"%x\"))\n",
    "plt.ylabel(\"Wind Speed (mph)\")\n",
    "plt.xlabel(\"Latitude\")\n",
    "plt.grid(True)\n",
    "\n",
    "# Save the figure\n",
    "plt.savefig(\"output_data/LatWind.png\")\n",
    "\n",
    "# Show plot\n",
    "plt.show()"
   ]
  },
  {
   "cell_type": "code",
   "execution_count": 22,
   "metadata": {},
   "outputs": [],
   "source": [
    "#There is a cluster of wind speeds near the lower levels but there does not seem to be a strong correlation between latitude and wind speeds."
   ]
  },
  {
   "cell_type": "markdown",
   "metadata": {},
   "source": [
    "## Linear Regression"
   ]
  },
  {
   "cell_type": "code",
   "execution_count": 23,
   "metadata": {},
   "outputs": [],
   "source": [
    "# Create a function to create Linear Regression plots\n",
    "def plot_linear_regression(x_values, y_values, title, text_coordinates):\n",
    "    \n",
    "    # Run regresson on southern hemisphere\n",
    "    (slope, intercept, rvalue, pvalue, stderr) = linregress(x_values, y_values)\n",
    "    regress_values = x_values * slope + intercept\n",
    "    line_eq = \"y = \" + str(round(slope,2)) + \"x + \" + str(round(intercept,2))\n",
    "\n",
    "    # Plot\n",
    "    plt.scatter(x_values,y_values)\n",
    "    plt.plot(x_values,regress_values,\"r-\")\n",
    "    plt.annotate(line_eq,text_coordinates,fontsize=15,color=\"red\")\n",
    "    plt.xlabel('Latitude')\n",
    "    plt.ylabel(title)\n",
    "    print(f\"The r-squared is: {rvalue**2}\")\n",
    "    plt.show()"
   ]
  },
  {
   "cell_type": "code",
   "execution_count": 53,
   "metadata": {},
   "outputs": [],
   "source": [
    "# Create Northern and Southern Hemisphere DataFrames\n",
    "northern_hemi_df = city_data_pd.loc[(city_data_pd[\"Lat\"] >= 0)]\n",
    "southern_hemi_df = city_data_pd.loc[(city_data_pd[\"Lat\"] < 0)]"
   ]
  },
  {
   "cell_type": "markdown",
   "metadata": {},
   "source": [
    "###  Max Temp vs. Latitude Linear Regression"
   ]
  },
  {
   "cell_type": "code",
   "execution_count": 76,
   "metadata": {},
   "outputs": [
    {
     "name": "stdout",
     "output_type": "stream",
     "text": [
      "The r-squared is: 0.5924517288186963\n"
     ]
    },
    {
     "data": {
      "image/png": "[encoded data removed]",
      "text/plain": [
       "<Figure size 432x288 with 1 Axes>"
      ]
     },
     "metadata": {
      "needs_background": "light"
     },
     "output_type": "display_data"
    },
    {
     "data": {
      "text/plain": [
       "<Figure size 432x288 with 0 Axes>"
      ]
     },
     "metadata": {},
     "output_type": "display_data"
    }
   ],
   "source": [
    "# Linear regression on Northern Hemisphere\n",
    "x_values = northern_hemi_df[\"Lat\"]\n",
    "y_values = northern_hemi_df[\"Max Temp\"]\n",
    "plot_linear_regression(x_values, y_values, 'Max Temp',(6,30))\n",
    "plt.savefig(\"output_data/FigtempLat.png\")\n",
    "plt.show()"
   ]
  },
  {
   "cell_type": "code",
   "execution_count": 55,
   "metadata": {},
   "outputs": [],
   "source": [
    "#As we predicted, there is a correlation between temperatures and latitude."
   ]
  },
  {
   "cell_type": "code",
   "execution_count": 56,
   "metadata": {},
   "outputs": [
    {
     "name": "stdout",
     "output_type": "stream",
     "text": [
      "The r-squared is: 0.4402164200302052\n"
     ]
    },
    {
     "data": {
      "image/png": "[encoded data removed]",
      "text/plain": [
       "<Figure size 432x288 with 1 Axes>"
      ]
     },
     "metadata": {
      "needs_background": "light"
     },
     "output_type": "display_data"
    }
   ],
   "source": [
    "# Linear regression on Southern Hemisphere\n",
    "x_values = southern_hemi_df[\"Lat\"]\n",
    "y_values = southern_hemi_df[\"Max Temp\"]\n",
    "plot_linear_regression(x_values, y_values, 'Max Temp', (-55, 90))"
   ]
  },
  {
   "cell_type": "code",
   "execution_count": 57,
   "metadata": {},
   "outputs": [],
   "source": [
    "#As we predicted, there is a correlation between temperatures and latitude."
   ]
  },
  {
   "cell_type": "markdown",
   "metadata": {},
   "source": [
    "### Humidity (%) vs. Latitude Linear Regression"
   ]
  },
  {
   "cell_type": "code",
   "execution_count": 58,
   "metadata": {},
   "outputs": [
    {
     "name": "stdout",
     "output_type": "stream",
     "text": [
      "The r-squared is: 0.0001377293014652996\n"
     ]
    },
    {
     "data": {
      "image/png": "[encoded data removed]",
      "text/plain": [
       "<Figure size 432x288 with 1 Axes>"
      ]
     },
     "metadata": {
      "needs_background": "light"
     },
     "output_type": "display_data"
    }
   ],
   "source": [
    "# Northern Hemisphere\n",
    "x_values = northern_hemi_df[\"Lat\"]\n",
    "y_values = northern_hemi_df[\"Humidity\"]\n",
    "plot_linear_regression(x_values, y_values, 'Humidity',(40,10))"
   ]
  },
  {
   "cell_type": "code",
   "execution_count": 59,
   "metadata": {},
   "outputs": [],
   "source": [
    "#There does not seem to be a relationship between humidity and latitude as shown by the small r-squared value and slope of the line."
   ]
  },
  {
   "cell_type": "code",
   "execution_count": 86,
   "metadata": {},
   "outputs": [
    {
     "name": "stdout",
     "output_type": "stream",
     "text": [
      "The r-squared is: 0.04882673451896857\n"
     ]
    },
    {
     "data": {
      "image/png": "[encoded data removed]",
      "text/plain": [
       "<Figure size 432x288 with 1 Axes>"
      ]
     },
     "metadata": {
      "needs_background": "light"
     },
     "output_type": "display_data"
    }
   ],
   "source": [
    "# Southern Hemisphere\n",
    "x_values = southern_hemi_df[\"Lat\"]\n",
    "y_values = southern_hemi_df[\"Humidity\"]\n",
    "plot_linear_regression(x_values, y_values, \"Humidity\", (-50, 20))"
   ]
  },
  {
   "cell_type": "code",
   "execution_count": 61,
   "metadata": {},
   "outputs": [],
   "source": [
    "#This also indicates that there is not a relationship between humidity and latitude as shown by the small r-squared value and slope of the line."
   ]
  },
  {
   "cell_type": "markdown",
   "metadata": {},
   "source": [
    "### Cloudiness (%) vs. Latitude Linear Regression"
   ]
  },
  {
   "cell_type": "code",
   "execution_count": 62,
   "metadata": {},
   "outputs": [
    {
     "name": "stdout",
     "output_type": "stream",
     "text": [
      "The r-squared is: 0.014655753892368504\n"
     ]
    },
    {
     "data": {
      "image/png": "[encoded data removed]",
      "text/plain": [
       "<Figure size 432x288 with 1 Axes>"
      ]
     },
     "metadata": {
      "needs_background": "light"
     },
     "output_type": "display_data"
    }
   ],
   "source": [
    "# Northern Hemisphere\n",
    "x_values = northern_hemi_df[\"Lat\"]\n",
    "y_values = northern_hemi_df[\"Cloudiness\"]\n",
    "plot_linear_regression(x_values, y_values, 'Cloudiness', (40,10))"
   ]
  },
  {
   "cell_type": "code",
   "execution_count": 63,
   "metadata": {},
   "outputs": [],
   "source": [
    "#There does not appear to be a strong correlation between cloudiness and latitude."
   ]
  },
  {
   "cell_type": "code",
   "execution_count": 64,
   "metadata": {},
   "outputs": [
    {
     "name": "stdout",
     "output_type": "stream",
     "text": [
      "The r-squared is: 0.01171074652883357\n"
     ]
    },
    {
     "data": {
      "image/png": "[encoded data removed]",
      "text/plain": [
       "<Figure size 432x288 with 1 Axes>"
      ]
     },
     "metadata": {
      "needs_background": "light"
     },
     "output_type": "display_data"
    }
   ],
   "source": [
    "# Southern Hemisphere\n",
    "x_values = southern_hemi_df[\"Lat\"]\n",
    "y_values = southern_hemi_df[\"Cloudiness\"]\n",
    "plot_linear_regression(x_values, y_values, 'Cloudiness', (-30,30))"
   ]
  },
  {
   "cell_type": "code",
   "execution_count": 65,
   "metadata": {},
   "outputs": [],
   "source": [
    "#There does not appear to be a strong correlation between cloudiness and latitude."
   ]
  },
  {
   "cell_type": "markdown",
   "metadata": {},
   "source": [
    "### Wind Speed (mph) vs. Latitude Linear Regression"
   ]
  },
  {
   "cell_type": "code",
   "execution_count": 66,
   "metadata": {},
   "outputs": [
    {
     "name": "stdout",
     "output_type": "stream",
     "text": [
      "The r-squared is: 0.03917822530528826\n"
     ]
    },
    {
     "data": {
      "image/png": "[encoded data removed]",
      "text/plain": [
       "<Figure size 432x288 with 1 Axes>"
      ]
     },
     "metadata": {
      "needs_background": "light"
     },
     "output_type": "display_data"
    }
   ],
   "source": [
    "# Northern Hemisphere\n",
    "x_values = northern_hemi_df[\"Lat\"]\n",
    "y_values = northern_hemi_df[\"Wind Speed\"]\n",
    "plot_linear_regression(x_values, y_values, 'Wind Speed', (40,25))"
   ]
  },
  {
   "cell_type": "code",
   "execution_count": 67,
   "metadata": {},
   "outputs": [],
   "source": [
    "#Again, no strong correlation between wind and latitude. There is a slight increasing slope as latitude increases."
   ]
  },
  {
   "cell_type": "code",
   "execution_count": 68,
   "metadata": {},
   "outputs": [
    {
     "name": "stdout",
     "output_type": "stream",
     "text": [
      "The r-squared is: 0.02775956167357865\n"
     ]
    },
    {
     "data": {
      "image/png": "[encoded data removed]",
      "text/plain": [
       "<Figure size 432x288 with 1 Axes>"
      ]
     },
     "metadata": {
      "needs_background": "light"
     },
     "output_type": "display_data"
    }
   ],
   "source": [
    "# Southern Hemisphere\n",
    "x_values = southern_hemi_df[\"Lat\"]\n",
    "y_values = southern_hemi_df[\"Wind Speed\"]\n",
    "plot_linear_regression(x_values, y_values, 'Wind Speed', (-50, 20))"
   ]
  },
  {
   "cell_type": "code",
   "execution_count": 69,
   "metadata": {},
   "outputs": [],
   "source": [
    "#Again, no strong correlation between wind and latitude. There is a slight decreasing slope as latitude increases."
   ]
  }
 ],
 "metadata": {
  "anaconda-cloud": {},
  "kernel_info": {
   "name": "python3"
  },
  "kernelspec": {
   "display_name": "Python 3",
   "language": "python",
   "name": "python3"
  },
  "language_info": {
   "codemirror_mode": {
    "name": "ipython",
    "version": 3
   },
   "file_extension": ".py",
   "mimetype": "text/x-python",
   "name": "python",
   "nbconvert_exporter": "python",
   "pygments_lexer": "ipython3",
   "version": "3.7.6"
  },
  "latex_envs": {
   "LaTeX_envs_menu_present": true,
   "autoclose": false,
   "autocomplete": true,
   "bibliofile": "biblio.bib",
   "cite_by": "apalike",
   "current_citInitial": 1,
   "eqLabelWithNumbers": true,
   "eqNumInitial": 1,
   "hotkeys": {
    "equation": "Ctrl-E",
    "itemize": "Ctrl-I"
   },
   "labels_anchors": false,
   "latex_user_defs": false,
   "report_style_numbering": false,
   "user_envs_cfg": false
  },
  "nteract": {
   "version": "0.12.3"
  }
 },
 "nbformat": 4,
 "nbformat_minor": 2
}
